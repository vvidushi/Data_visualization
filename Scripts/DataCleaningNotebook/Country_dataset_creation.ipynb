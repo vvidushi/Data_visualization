{
 "cells": [
  {
   "cell_type": "code",
   "execution_count": 1,
   "id": "05cbef58-23f8-433f-9ae3-e97b6812f606",
   "metadata": {},
   "outputs": [
    {
     "name": "stdout",
     "output_type": "stream",
     "text": [
      "✅ CSV file 'countries_with_flags.csv' created successfully!\n"
     ]
    }
   ],
   "source": [
    "import requests\n",
    "import pandas as pd\n",
    "\n",
    "# Fetch country data from REST Countries API\n",
    "response = requests.get(\"https://restcountries.com/v3.1/all\")\n",
    "data = response.json()\n",
    "\n",
    "# Build the dataset\n",
    "countries_list = []\n",
    "\n",
    "for country in data:\n",
    "    try:\n",
    "        name = country[\"name\"][\"common\"]\n",
    "        continent = country[\"continents\"][0]\n",
    "        alpha3 = country[\"cca3\"]  # 3-letter code\n",
    "        alpha2 = country[\"cca2\"]  # Needed for the flag URL\n",
    "        flag_url = f\"https://flagcdn.com/w320/{alpha2.lower()}.png\"\n",
    "\n",
    "        countries_list.append({\n",
    "            \"Country Name\": name,\n",
    "            \"Continent\": continent,\n",
    "            \"Country Code (Alpha-3)\": alpha3,\n",
    "            \"Flag Image URL\": flag_url\n",
    "        })\n",
    "\n",
    "    except KeyError:\n",
    "        continue\n",
    "\n",
    "# Convert to DataFrame\n",
    "df = pd.DataFrame(countries_list)\n",
    "\n",
    "# Save to CSV\n",
    "df.to_csv(\"countries_with_flags.csv\", index=False)\n",
    "\n",
    "print(\"✅ CSV file 'countries_with_flags.csv' created successfully!\")\n"
   ]
  },
  {
   "cell_type": "code",
   "execution_count": 2,
   "id": "bb834cba-4046-42aa-8878-9a97c5efb7f1",
   "metadata": {},
   "outputs": [
    {
     "data": {
      "text/html": [
       "<a href='countries_with_flags.csv' target='_blank'>countries_with_flags.csv</a><br>"
      ],
      "text/plain": [
       "/Users/abhishekkumar/Downloads/countries_with_flags.csv"
      ]
     },
     "execution_count": 2,
     "metadata": {},
     "output_type": "execute_result"
    }
   ],
   "source": [
    "from IPython.display import FileLink\n",
    "\n",
    "# Save the cleaned DataFrame to a CSV file in the current working directory\n",
    "df.to_csv('countries_with_flags.csv', index=False)\n",
    "\n",
    "\n",
    "# Create a download link for the CSV file\n",
    "FileLink('countries_with_flags.csv')"
   ]
  },
  {
   "cell_type": "code",
   "execution_count": null,
   "id": "5a2bfc6b-d12c-4a8d-9be3-0528b3682ac8",
   "metadata": {},
   "outputs": [],
   "source": []
  }
 ],
 "metadata": {
  "kernelspec": {
   "display_name": "Python 3 (ipykernel)",
   "language": "python",
   "name": "python3"
  },
  "language_info": {
   "codemirror_mode": {
    "name": "ipython",
    "version": 3
   },
   "file_extension": ".py",
   "mimetype": "text/x-python",
   "name": "python",
   "nbconvert_exporter": "python",
   "pygments_lexer": "ipython3",
   "version": "3.12.7"
  }
 },
 "nbformat": 4,
 "nbformat_minor": 5
}
